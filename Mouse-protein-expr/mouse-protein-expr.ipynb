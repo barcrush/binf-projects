{
 "cells": [
  {
   "cell_type": "markdown",
   "id": "69526495",
   "metadata": {},
   "source": [
    "## Mouse Protein Expression Analysis\n"
   ]
  },
  {
   "cell_type": "code",
   "execution_count": 4,
   "id": "a4599876",
   "metadata": {},
   "outputs": [],
   "source": [
    "#importing necessarry libraries\n",
    "import numpy as np\n",
    "import matplotlib.pyplot as plt\n",
    "import pandas as pd\n",
    "import seaborn as sns\n",
    "import warnings\n",
    "warnings.filterwarnings('ignore')"
   ]
  },
  {
   "cell_type": "code",
   "execution_count": 5,
   "id": "7bd97776",
   "metadata": {},
   "outputs": [],
   "source": [
    "nuc_cortex = pd.read_csv(\"Data_Cortex_Nuclear.csv\")"
   ]
  },
  {
   "cell_type": "code",
   "execution_count": 6,
   "id": "40b1ad6a",
   "metadata": {},
   "outputs": [
    {
     "name": "stdout",
     "output_type": "stream",
     "text": [
      "          DYRK1A_N      ITSN1_N       BDNF_N        NR1_N       NR2A_N  \\\n",
      "count  1077.000000  1077.000000  1077.000000  1077.000000  1077.000000   \n",
      "mean      0.425810     0.617102     0.319088     2.297269     3.843934   \n",
      "std       0.249362     0.251640     0.049383     0.347293     0.933100   \n",
      "min       0.145327     0.245359     0.115181     1.330831     1.737540   \n",
      "25%       0.288121     0.473361     0.287444     2.057411     3.155678   \n",
      "50%       0.366378     0.565782     0.316564     2.296546     3.760855   \n",
      "75%       0.487711     0.698032     0.348197     2.528481     4.440011   \n",
      "max       2.516367     2.602662     0.497160     3.757641     8.482553   \n",
      "\n",
      "            pAKT_N      pBRAF_N    pCAMKII_N      pCREB_N       pELK_N  ...  \\\n",
      "count  1077.000000  1077.000000  1077.000000  1077.000000  1077.000000  ...   \n",
      "mean      0.233168     0.181846     3.537109     0.212574     1.428682  ...   \n",
      "std       0.041634     0.027042     1.295169     0.032587     0.466904  ...   \n",
      "min       0.063236     0.064043     1.343998     0.112812     0.429032  ...   \n",
      "25%       0.205755     0.164595     2.479834     0.190823     1.203665  ...   \n",
      "50%       0.231177     0.182302     3.326520     0.210594     1.355846  ...   \n",
      "75%       0.257261     0.197418     4.481940     0.234595     1.561316  ...   \n",
      "max       0.539050     0.317066     7.464070     0.306247     6.113347  ...   \n",
      "\n",
      "             SHH_N       BAD_N      BCL2_N        pS6_N      pCFOS_N  \\\n",
      "count  1080.000000  867.000000  795.000000  1080.000000  1005.000000   \n",
      "mean      0.226676    0.157914    0.134762     0.121521     0.131053   \n",
      "std       0.028989    0.029537    0.027417     0.014276     0.023863   \n",
      "min       0.155869    0.088305    0.080657     0.067254     0.085419   \n",
      "25%       0.206395    0.136424    0.115554     0.110839     0.113506   \n",
      "50%       0.224000    0.152313    0.129468     0.121626     0.126523   \n",
      "75%       0.241655    0.174017    0.148235     0.131955     0.143652   \n",
      "max       0.358289    0.282016    0.261506     0.158748     0.256529   \n",
      "\n",
      "             SYP_N   H3AcK18_N      EGR1_N    H3MeK4_N       CaNA_N  \n",
      "count  1080.000000  900.000000  870.000000  810.000000  1080.000000  \n",
      "mean      0.446073    0.169609    0.183135    0.205440     1.337784  \n",
      "std       0.066432    0.059402    0.040406    0.055514     0.317126  \n",
      "min       0.258626    0.079691    0.105537    0.101787     0.586479  \n",
      "25%       0.398082    0.125848    0.155121    0.165143     1.081423  \n",
      "50%       0.448459    0.158240    0.174935    0.193994     1.317441  \n",
      "75%       0.490773    0.197876    0.204542    0.235215     1.585824  \n",
      "max       0.759588    0.479763    0.360692    0.413903     2.129791  \n",
      "\n",
      "[8 rows x 77 columns]\n"
     ]
    }
   ],
   "source": [
    "print(nuc_cortex.describe())"
   ]
  },
  {
   "cell_type": "code",
   "execution_count": null,
   "id": "7c086f1c",
   "metadata": {},
   "outputs": [],
   "source": []
  },
  {
   "cell_type": "code",
   "execution_count": 3,
   "id": "ced5a2cd",
   "metadata": {},
   "outputs": [
    {
     "data": {
      "text/plain": [
       "<_io.TextIOWrapper name='Data_Cortex_Nuclear.csv' mode='r' encoding='UTF-8'>"
      ]
     },
     "execution_count": 3,
     "metadata": {},
     "output_type": "execute_result"
    }
   ],
   "source": []
  },
  {
   "cell_type": "code",
   "execution_count": null,
   "id": "55ac5f8d",
   "metadata": {},
   "outputs": [],
   "source": []
  },
  {
   "cell_type": "code",
   "execution_count": null,
   "id": "fa51a4ac",
   "metadata": {},
   "outputs": [],
   "source": []
  },
  {
   "cell_type": "code",
   "execution_count": null,
   "id": "0ff9ecea",
   "metadata": {},
   "outputs": [],
   "source": []
  },
  {
   "cell_type": "code",
   "execution_count": null,
   "id": "fd712867",
   "metadata": {},
   "outputs": [],
   "source": []
  },
  {
   "cell_type": "code",
   "execution_count": null,
   "id": "87e2bedb",
   "metadata": {},
   "outputs": [],
   "source": []
  }
 ],
 "metadata": {
  "kernelspec": {
   "display_name": "Python 3 (ipykernel)",
   "language": "python",
   "name": "python3"
  },
  "language_info": {
   "codemirror_mode": {
    "name": "ipython",
    "version": 3
   },
   "file_extension": ".py",
   "mimetype": "text/x-python",
   "name": "python",
   "nbconvert_exporter": "python",
   "pygments_lexer": "ipython3",
   "version": "3.9.12"
  }
 },
 "nbformat": 4,
 "nbformat_minor": 5
}
